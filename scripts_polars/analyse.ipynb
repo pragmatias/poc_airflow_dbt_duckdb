{
 "cells": [
  {
   "cell_type": "code",
   "execution_count": 10,
   "metadata": {},
   "outputs": [],
   "source": [
    "# Import libs\n",
    "import polars as p\n",
    "import os\n",
    "\n",
    "# Declare Global Variable\n",
    "dir_root  = globals()[\"_dh\"][0]\n",
    "dir_data_geonames = f\"{dir_root}/../data/genere/geonames\"\n",
    "dir_data_result = f\"{dir_root}/../data/result/geonames\"\n",
    "\n",
    "file_result_ville_parquet = f\"{dir_data_result}/ville_geo.parquet\"\n",
    "file_result_ville_delta = f\"{dir_data_result}/ville_geo_delta\""
   ]
  },
  {
   "cell_type": "code",
   "execution_count": 11,
   "metadata": {},
   "outputs": [],
   "source": [
    "# Create result folder if not exists\n",
    "if (not(os.path.exists(dir_data_result))):\n",
    "    os.makedirs(dir_data_result)"
   ]
  },
  {
   "cell_type": "code",
   "execution_count": 15,
   "metadata": {},
   "outputs": [],
   "source": [
    "# Read data from CSV Files\n",
    "df_admin2 = p.read_csv(source=f\"{dir_data_geonames}/admin2Codes.csv\"\n",
    "                   ,separator=';'\n",
    "                   ,has_header=True)\n",
    "\n",
    "df_admin1 = p.read_csv(source=f\"{dir_data_geonames}/admin1CodesASCII.csv\"\n",
    "                   ,separator=';'\n",
    "                   ,has_header=True)\n",
    "\n",
    "df_FR = p.read_csv(source=f\"{dir_data_geonames}/FR.csv\"\n",
    "                   ,separator=';'\n",
    "                   ,has_header=True\n",
    "                   ,ignore_errors=False\n",
    "                   ,schema_overrides={\"admin1_code\": p.String, \"dem\" : p.String, \"modification_date\" : p.Date})\n",
    "\n"
   ]
  },
  {
   "cell_type": "code",
   "execution_count": 16,
   "metadata": {},
   "outputs": [
    {
     "name": "stdout",
     "output_type": "stream",
     "text": [
      "Admin1 : OrderedDict([('code', String), ('name', String), ('name_ascii', String), ('geonameid', Int64)])\n",
      "Admin2 : OrderedDict([('codes', String), ('name', String), ('name_ascii', String), ('geonameId', Int64)])\n",
      "FR : OrderedDict([('geonameid', Int64), ('name', String), ('ascii_name', String), ('alternate_names', String), ('latitude', Float64), ('longitude', Float64), ('feature_class', String), ('feature_code', String), ('country_code', String), ('cc2', String), ('admin1_code', String), ('admin2_code', String), ('admin3_code', String), ('admin4_code', String), ('population', Int64), ('elevation', Int64), ('dem', String), ('timezone', String), ('modification_date', Date)])\n"
     ]
    }
   ],
   "source": [
    "# Get dataframe Schema\n",
    "print(f\"Admin1 : {df_admin1.schema}\")\n",
    "print(f\"Admin2 : {df_admin2.schema}\")\n",
    "print(f\"FR : {df_FR.schema}\")\n"
   ]
  },
  {
   "cell_type": "code",
   "execution_count": 18,
   "metadata": {},
   "outputs": [
    {
     "data": {
      "text/html": [
       "<div><style>\n",
       ".dataframe > thead > tr,\n",
       ".dataframe > tbody > tr {\n",
       "  text-align: right;\n",
       "  white-space: pre-wrap;\n",
       "}\n",
       "</style>\n",
       "<small>shape: (2, 19)</small><table border=\"1\" class=\"dataframe\"><thead><tr><th>geonameid</th><th>name</th><th>ascii_name</th><th>alternate_names</th><th>latitude</th><th>longitude</th><th>feature_class</th><th>feature_code</th><th>country_code</th><th>cc2</th><th>admin1_code</th><th>admin2_code</th><th>admin3_code</th><th>admin4_code</th><th>population</th><th>elevation</th><th>dem</th><th>timezone</th><th>modification_date</th></tr><tr><td>i64</td><td>str</td><td>str</td><td>str</td><td>f64</td><td>f64</td><td>str</td><td>str</td><td>str</td><td>str</td><td>str</td><td>str</td><td>str</td><td>str</td><td>i64</td><td>i64</td><td>str</td><td>str</td><td>date</td></tr></thead><tbody><tr><td>2659086</td><td>&quot;Col de Recon&quot;</td><td>&quot;Col de Recon&quot;</td><td>&quot;Rapenaz  Col de,Recon  Col de&quot;</td><td>46.30352</td><td>6.82838</td><td>&quot;T&quot;</td><td>&quot;PASS&quot;</td><td>&quot;FR&quot;</td><td>&quot;CH&quot;</td><td>&quot;84&quot;</td><td>&quot;74&quot;</td><td>&quot;744&quot;</td><td>&quot;74058&quot;</td><td>0</td><td>null</td><td>&quot;1733&quot;</td><td>&quot;Europe/Paris&quot;</td><td>2019-02-15</td></tr><tr><td>2659815</td><td>&quot;Lucelle&quot;</td><td>&quot;Lucelle&quot;</td><td>&quot;La Lucelle Riviere,La Lucelle …</td><td>47.43813</td><td>7.3428</td><td>&quot;H&quot;</td><td>&quot;STM&quot;</td><td>&quot;FR&quot;</td><td>null</td><td>&quot;00&quot;</td><td>null</td><td>null</td><td>null</td><td>0</td><td>null</td><td>&quot;533&quot;</td><td>&quot;Europe/Zurich&quot;</td><td>2022-08-09</td></tr></tbody></table></div>"
      ],
      "text/plain": [
       "shape: (2, 19)\n",
       "┌───────────┬────────────┬────────────┬────────────┬───┬───────────┬──────┬────────────┬───────────┐\n",
       "│ geonameid ┆ name       ┆ ascii_name ┆ alternate_ ┆ … ┆ elevation ┆ dem  ┆ timezone   ┆ modificat │\n",
       "│ ---       ┆ ---        ┆ ---        ┆ names      ┆   ┆ ---       ┆ ---  ┆ ---        ┆ ion_date  │\n",
       "│ i64       ┆ str        ┆ str        ┆ ---        ┆   ┆ i64       ┆ str  ┆ str        ┆ ---       │\n",
       "│           ┆            ┆            ┆ str        ┆   ┆           ┆      ┆            ┆ date      │\n",
       "╞═══════════╪════════════╪════════════╪════════════╪═══╪═══════════╪══════╪════════════╪═══════════╡\n",
       "│ 2659086   ┆ Col de     ┆ Col de     ┆ Rapenaz    ┆ … ┆ null      ┆ 1733 ┆ Europe/Par ┆ 2019-02-1 │\n",
       "│           ┆ Recon      ┆ Recon      ┆ Col        ┆   ┆           ┆      ┆ is         ┆ 5         │\n",
       "│           ┆            ┆            ┆ de,Recon   ┆   ┆           ┆      ┆            ┆           │\n",
       "│           ┆            ┆            ┆ Col de     ┆   ┆           ┆      ┆            ┆           │\n",
       "│ 2659815   ┆ Lucelle    ┆ Lucelle    ┆ La Lucelle ┆ … ┆ null      ┆ 533  ┆ Europe/Zur ┆ 2022-08-0 │\n",
       "│           ┆            ┆            ┆ Riviere,La ┆   ┆           ┆      ┆ ich        ┆ 9         │\n",
       "│           ┆            ┆            ┆ Lucelle …  ┆   ┆           ┆      ┆            ┆           │\n",
       "└───────────┴────────────┴────────────┴────────────┴───┴───────────┴──────┴────────────┴───────────┘"
      ]
     },
     "execution_count": 18,
     "metadata": {},
     "output_type": "execute_result"
    }
   ],
   "source": [
    "# Get the first two rows\n",
    "df_FR.head(2)\n"
   ]
  },
  {
   "cell_type": "code",
   "execution_count": 19,
   "metadata": {},
   "outputs": [
    {
     "data": {
      "text/html": [
       "<div><style>\n",
       ".dataframe > thead > tr,\n",
       ".dataframe > tbody > tr {\n",
       "  text-align: right;\n",
       "  white-space: pre-wrap;\n",
       "}\n",
       "</style>\n",
       "<small>shape: (9, 20)</small><table border=\"1\" class=\"dataframe\"><thead><tr><th>statistic</th><th>geonameid</th><th>name</th><th>ascii_name</th><th>alternate_names</th><th>latitude</th><th>longitude</th><th>feature_class</th><th>feature_code</th><th>country_code</th><th>cc2</th><th>admin1_code</th><th>admin2_code</th><th>admin3_code</th><th>admin4_code</th><th>population</th><th>elevation</th><th>dem</th><th>timezone</th><th>modification_date</th></tr><tr><td>str</td><td>f64</td><td>str</td><td>str</td><td>str</td><td>f64</td><td>f64</td><td>str</td><td>str</td><td>str</td><td>str</td><td>str</td><td>str</td><td>str</td><td>str</td><td>f64</td><td>f64</td><td>str</td><td>str</td><td>str</td></tr></thead><tbody><tr><td>&quot;count&quot;</td><td>171596.0</td><td>&quot;171596&quot;</td><td>&quot;171596&quot;</td><td>&quot;109735&quot;</td><td>171596.0</td><td>171596.0</td><td>&quot;171596&quot;</td><td>&quot;171596&quot;</td><td>&quot;171596&quot;</td><td>&quot;421&quot;</td><td>&quot;171386&quot;</td><td>&quot;166278&quot;</td><td>&quot;158282&quot;</td><td>&quot;157895&quot;</td><td>171596.0</td><td>5457.0</td><td>&quot;171596&quot;</td><td>&quot;171504&quot;</td><td>&quot;171596&quot;</td></tr><tr><td>&quot;null_count&quot;</td><td>0.0</td><td>&quot;0&quot;</td><td>&quot;0&quot;</td><td>&quot;61861&quot;</td><td>0.0</td><td>0.0</td><td>&quot;0&quot;</td><td>&quot;0&quot;</td><td>&quot;0&quot;</td><td>&quot;171175&quot;</td><td>&quot;210&quot;</td><td>&quot;5318&quot;</td><td>&quot;13314&quot;</td><td>&quot;13701&quot;</td><td>0.0</td><td>166139.0</td><td>&quot;0&quot;</td><td>&quot;92&quot;</td><td>&quot;0&quot;</td></tr><tr><td>&quot;mean&quot;</td><td>6.3091e6</td><td>null</td><td>null</td><td>null</td><td>46.710248</td><td>2.633993</td><td>null</td><td>null</td><td>null</td><td>null</td><td>null</td><td>null</td><td>null</td><td>null</td><td>2654.276388</td><td>1305.433755</td><td>null</td><td>null</td><td>&quot;2018-05-28&quot;</td></tr><tr><td>&quot;std&quot;</td><td>3.4308e6</td><td>null</td><td>null</td><td>null</td><td>2.19703</td><td>2.997941</td><td>null</td><td>null</td><td>null</td><td>null</td><td>null</td><td>null</td><td>null</td><td>null</td><td>174786.100996</td><td>939.095979</td><td>null</td><td>null</td><td>null</td></tr><tr><td>&quot;min&quot;</td><td>2.659086e6</td><td>&quot;(Former) Roman Catholic Dioces…</td><td>&quot;(Former) Roman Catholic Dioces…</td><td>&quot;(mthf alfn almʿasr (qlʿt mwnsw…</td><td>4.5422</td><td>-109.23333</td><td>&quot;A&quot;</td><td>&quot;ADM1&quot;</td><td>&quot;FR&quot;</td><td>&quot;AD&quot;</td><td>&quot;0&quot;</td><td>&quot;1&quot;</td><td>&quot;11&quot;</td><td>&quot;1001&quot;</td><td>0.0</td><td>0.0</td><td>&quot;-1&quot;</td><td>&quot;Europe/Amsterdam&quot;</td><td>&quot;1994-01-06&quot;</td></tr><tr><td>&quot;25%&quot;</td><td>3.010133e6</td><td>null</td><td>null</td><td>null</td><td>44.97226</td><td>0.62247</td><td>null</td><td>null</td><td>null</td><td>null</td><td>null</td><td>null</td><td>null</td><td>null</td><td>0.0</td><td>544.0</td><td>null</td><td>null</td><td>&quot;2016-02-18&quot;</td></tr><tr><td>&quot;50%&quot;</td><td>6.436627e6</td><td>null</td><td>null</td><td>null</td><td>46.99443</td><td>2.48527</td><td>null</td><td>null</td><td>null</td><td>null</td><td>null</td><td>null</td><td>null</td><td>null</td><td>0.0</td><td>1155.0</td><td>null</td><td>null</td><td>&quot;2019-03-23&quot;</td></tr><tr><td>&quot;75%&quot;</td><td>8.294478e6</td><td>null</td><td>null</td><td>null</td><td>48.61667</td><td>4.86755</td><td>null</td><td>null</td><td>null</td><td>null</td><td>null</td><td>null</td><td>null</td><td>null</td><td>313.0</td><td>1958.0</td><td>null</td><td>null</td><td>&quot;2019-06-08&quot;</td></tr><tr><td>&quot;max&quot;</td><td>1.2908801e7</td><td>&quot;Œutrange&quot;</td><td>&quot;water tower Moret&quot;</td><td>&quot;¨Punta de Lliterola&quot;</td><td>51.23104</td><td>9.75</td><td>&quot;V&quot;</td><td>&quot;ZOO&quot;</td><td>&quot;FR&quot;</td><td>&quot;LU,FR&quot;</td><td>&quot;C1&quot;</td><td>&quot;95&quot;</td><td>&quot;953&quot;</td><td>&quot;95690&quot;</td><td>6.6987244e7</td><td>4810.0</td><td>&quot;999&quot;</td><td>&quot;Pacific/Marquesas&quot;</td><td>&quot;2024-06-17&quot;</td></tr></tbody></table></div>"
      ],
      "text/plain": [
       "shape: (9, 20)\n",
       "┌────────────┬────────────┬───────────┬───────────┬───┬───────────┬────────┬───────────┬───────────┐\n",
       "│ statistic  ┆ geonameid  ┆ name      ┆ ascii_nam ┆ … ┆ elevation ┆ dem    ┆ timezone  ┆ modificat │\n",
       "│ ---        ┆ ---        ┆ ---       ┆ e         ┆   ┆ ---       ┆ ---    ┆ ---       ┆ ion_date  │\n",
       "│ str        ┆ f64        ┆ str       ┆ ---       ┆   ┆ f64       ┆ str    ┆ str       ┆ ---       │\n",
       "│            ┆            ┆           ┆ str       ┆   ┆           ┆        ┆           ┆ str       │\n",
       "╞════════════╪════════════╪═══════════╪═══════════╪═══╪═══════════╪════════╪═══════════╪═══════════╡\n",
       "│ count      ┆ 171596.0   ┆ 171596    ┆ 171596    ┆ … ┆ 5457.0    ┆ 171596 ┆ 171504    ┆ 171596    │\n",
       "│ null_count ┆ 0.0        ┆ 0         ┆ 0         ┆ … ┆ 166139.0  ┆ 0      ┆ 92        ┆ 0         │\n",
       "│ mean       ┆ 6.3091e6   ┆ null      ┆ null      ┆ … ┆ 1305.4337 ┆ null   ┆ null      ┆ 2018-05-2 │\n",
       "│            ┆            ┆           ┆           ┆   ┆ 55        ┆        ┆           ┆ 8         │\n",
       "│ std        ┆ 3.4308e6   ┆ null      ┆ null      ┆ … ┆ 939.09597 ┆ null   ┆ null      ┆ null      │\n",
       "│            ┆            ┆           ┆           ┆   ┆ 9         ┆        ┆           ┆           │\n",
       "│ min        ┆ 2.659086e6 ┆ (Former)  ┆ (Former)  ┆ … ┆ 0.0       ┆ -1     ┆ Europe/Am ┆ 1994-01-0 │\n",
       "│            ┆            ┆ Roman     ┆ Roman     ┆   ┆           ┆        ┆ sterdam   ┆ 6         │\n",
       "│            ┆            ┆ Catholic  ┆ Catholic  ┆   ┆           ┆        ┆           ┆           │\n",
       "│            ┆            ┆ Dioces…   ┆ Dioces…   ┆   ┆           ┆        ┆           ┆           │\n",
       "│ 25%        ┆ 3.010133e6 ┆ null      ┆ null      ┆ … ┆ 544.0     ┆ null   ┆ null      ┆ 2016-02-1 │\n",
       "│            ┆            ┆           ┆           ┆   ┆           ┆        ┆           ┆ 8         │\n",
       "│ 50%        ┆ 6.436627e6 ┆ null      ┆ null      ┆ … ┆ 1155.0    ┆ null   ┆ null      ┆ 2019-03-2 │\n",
       "│            ┆            ┆           ┆           ┆   ┆           ┆        ┆           ┆ 3         │\n",
       "│ 75%        ┆ 8.294478e6 ┆ null      ┆ null      ┆ … ┆ 1958.0    ┆ null   ┆ null      ┆ 2019-06-0 │\n",
       "│            ┆            ┆           ┆           ┆   ┆           ┆        ┆           ┆ 8         │\n",
       "│ max        ┆ 1.2908801e ┆ Œutrange  ┆ water     ┆ … ┆ 4810.0    ┆ 999    ┆ Pacific/M ┆ 2024-06-1 │\n",
       "│            ┆ 7          ┆           ┆ tower     ┆   ┆           ┆        ┆ arquesas  ┆ 7         │\n",
       "│            ┆            ┆           ┆ Moret     ┆   ┆           ┆        ┆           ┆           │\n",
       "└────────────┴────────────┴───────────┴───────────┴───┴───────────┴────────┴───────────┴───────────┘"
      ]
     },
     "execution_count": 19,
     "metadata": {},
     "output_type": "execute_result"
    }
   ],
   "source": [
    "# Get summary information\n",
    "df_FR.describe()"
   ]
  },
  {
   "cell_type": "code",
   "execution_count": 20,
   "metadata": {},
   "outputs": [
    {
     "data": {
      "text/html": [
       "<div><style>\n",
       ".dataframe > thead > tr,\n",
       ".dataframe > tbody > tr {\n",
       "  text-align: right;\n",
       "  white-space: pre-wrap;\n",
       "}\n",
       "</style>\n",
       "<small>shape: (5, 4)</small><table border=\"1\" class=\"dataframe\"><thead><tr><th>code</th><th>name</th><th>name_ascii</th><th>geonameid</th></tr><tr><td>str</td><td>str</td><td>str</td><td>i64</td></tr></thead><tbody><tr><td>&quot;AD.06&quot;</td><td>&quot;Sant Julià de Loria&quot;</td><td>&quot;Sant Julia de Loria&quot;</td><td>3039162</td></tr><tr><td>&quot;AD.05&quot;</td><td>&quot;Ordino&quot;</td><td>&quot;Ordino&quot;</td><td>3039676</td></tr><tr><td>&quot;AD.04&quot;</td><td>&quot;La Massana&quot;</td><td>&quot;La Massana&quot;</td><td>3040131</td></tr><tr><td>&quot;AD.03&quot;</td><td>&quot;Encamp&quot;</td><td>&quot;Encamp&quot;</td><td>3040684</td></tr><tr><td>&quot;AD.02&quot;</td><td>&quot;Canillo&quot;</td><td>&quot;Canillo&quot;</td><td>3041203</td></tr></tbody></table></div>"
      ],
      "text/plain": [
       "shape: (5, 4)\n",
       "┌───────┬─────────────────────┬─────────────────────┬───────────┐\n",
       "│ code  ┆ name                ┆ name_ascii          ┆ geonameid │\n",
       "│ ---   ┆ ---                 ┆ ---                 ┆ ---       │\n",
       "│ str   ┆ str                 ┆ str                 ┆ i64       │\n",
       "╞═══════╪═════════════════════╪═════════════════════╪═══════════╡\n",
       "│ AD.06 ┆ Sant Julià de Loria ┆ Sant Julia de Loria ┆ 3039162   │\n",
       "│ AD.05 ┆ Ordino              ┆ Ordino              ┆ 3039676   │\n",
       "│ AD.04 ┆ La Massana          ┆ La Massana          ┆ 3040131   │\n",
       "│ AD.03 ┆ Encamp              ┆ Encamp              ┆ 3040684   │\n",
       "│ AD.02 ┆ Canillo             ┆ Canillo             ┆ 3041203   │\n",
       "└───────┴─────────────────────┴─────────────────────┴───────────┘"
      ]
     },
     "execution_count": 20,
     "metadata": {},
     "output_type": "execute_result"
    }
   ],
   "source": [
    "# Get the 5 first rows from admin1\n",
    "df_admin1.head(n=5)"
   ]
  },
  {
   "cell_type": "code",
   "execution_count": 21,
   "metadata": {},
   "outputs": [
    {
     "data": {
      "text/html": [
       "<div><style>\n",
       ".dataframe > thead > tr,\n",
       ".dataframe > tbody > tr {\n",
       "  text-align: right;\n",
       "  white-space: pre-wrap;\n",
       "}\n",
       "</style>\n",
       "<small>shape: (5, 4)</small><table border=\"1\" class=\"dataframe\"><thead><tr><th>codes</th><th>name</th><th>name_ascii</th><th>geonameId</th></tr><tr><td>str</td><td>str</td><td>str</td><td>i64</td></tr></thead><tbody><tr><td>&quot;AE.01.101&quot;</td><td>&quot;Abu Dhabi Municipality&quot;</td><td>&quot;Abu Dhabi Municipality&quot;</td><td>12047239</td></tr><tr><td>&quot;AE.01.102&quot;</td><td>&quot;Al Ain Municipality&quot;</td><td>&quot;Al Ain Municipality&quot;</td><td>12047240</td></tr><tr><td>&quot;AE.01.103&quot;</td><td>&quot;Al Dhafra&quot;</td><td>&quot;Al Dhafra&quot;</td><td>12047241</td></tr><tr><td>&quot;AE.04.701&quot;</td><td>&quot;Al Fujairah Municipality&quot;</td><td>&quot;Al Fujairah Municipality&quot;</td><td>12047242</td></tr><tr><td>&quot;AE.04.702&quot;</td><td>&quot;Dibba Al Fujairah Municipality&quot;</td><td>&quot;Dibba Al Fujairah Municipality&quot;</td><td>12047243</td></tr></tbody></table></div>"
      ],
      "text/plain": [
       "shape: (5, 4)\n",
       "┌───────────┬────────────────────────────────┬────────────────────────────────┬───────────┐\n",
       "│ codes     ┆ name                           ┆ name_ascii                     ┆ geonameId │\n",
       "│ ---       ┆ ---                            ┆ ---                            ┆ ---       │\n",
       "│ str       ┆ str                            ┆ str                            ┆ i64       │\n",
       "╞═══════════╪════════════════════════════════╪════════════════════════════════╪═══════════╡\n",
       "│ AE.01.101 ┆ Abu Dhabi Municipality         ┆ Abu Dhabi Municipality         ┆ 12047239  │\n",
       "│ AE.01.102 ┆ Al Ain Municipality            ┆ Al Ain Municipality            ┆ 12047240  │\n",
       "│ AE.01.103 ┆ Al Dhafra                      ┆ Al Dhafra                      ┆ 12047241  │\n",
       "│ AE.04.701 ┆ Al Fujairah Municipality       ┆ Al Fujairah Municipality       ┆ 12047242  │\n",
       "│ AE.04.702 ┆ Dibba Al Fujairah Municipality ┆ Dibba Al Fujairah Municipality ┆ 12047243  │\n",
       "└───────────┴────────────────────────────────┴────────────────────────────────┴───────────┘"
      ]
     },
     "execution_count": 21,
     "metadata": {},
     "output_type": "execute_result"
    }
   ],
   "source": [
    "# Get the 5 first rows from admin2\n",
    "df_admin2.head(n=5)"
   ]
  },
  {
   "cell_type": "code",
   "execution_count": 22,
   "metadata": {},
   "outputs": [
    {
     "data": {
      "text/html": [
       "<div><style>\n",
       ".dataframe > thead > tr,\n",
       ".dataframe > tbody > tr {\n",
       "  text-align: right;\n",
       "  white-space: pre-wrap;\n",
       "}\n",
       "</style>\n",
       "<small>shape: (1_374, 7)</small><table border=\"1\" class=\"dataframe\"><thead><tr><th>geonameid</th><th>name</th><th>country_code</th><th>admin2_code</th><th>population</th><th>modification_date</th><th>departement_int</th></tr><tr><td>i64</td><td>str</td><td>str</td><td>str</td><td>i64</td><td>date</td><td>i64</td></tr></thead><tbody><tr><td>2967196</td><td>&quot;Yvelines&quot;</td><td>&quot;FR&quot;</td><td>&quot;78&quot;</td><td>1433447</td><td>2018-02-06</td><td>78</td></tr><tr><td>2967202</td><td>&quot;Arrondissement d&#x27;Yssingeaux&quot;</td><td>&quot;FR&quot;</td><td>&quot;43&quot;</td><td>85073</td><td>2023-03-14</td><td>43</td></tr><tr><td>2967222</td><td>&quot;Yonne&quot;</td><td>&quot;FR&quot;</td><td>&quot;89&quot;</td><td>337504</td><td>2022-03-10</td><td>89</td></tr><tr><td>2967245</td><td>&quot;Yerres&quot;</td><td>&quot;FR&quot;</td><td>&quot;91&quot;</td><td>28897</td><td>2016-02-18</td><td>91</td></tr><tr><td>2967324</td><td>&quot;Arrondissement de Wissembourg&quot;</td><td>&quot;FR&quot;</td><td>&quot;67&quot;</td><td>70020</td><td>2019-03-27</td><td>67</td></tr><tr><td>&hellip;</td><td>&hellip;</td><td>&hellip;</td><td>&hellip;</td><td>&hellip;</td><td>&hellip;</td><td>&hellip;</td></tr><tr><td>12808664</td><td>&quot;Bel-Air&quot;</td><td>&quot;FR&quot;</td><td>&quot;75&quot;</td><td>36279</td><td>2024-04-25</td><td>75</td></tr><tr><td>12808673</td><td>&quot;Paris 13e Arrondissement&quot;</td><td>&quot;FR&quot;</td><td>&quot;75&quot;</td><td>177833</td><td>2024-04-26</td><td>75</td></tr><tr><td>12808674</td><td>&quot;Croulebarbe&quot;</td><td>&quot;FR&quot;</td><td>&quot;94&quot;</td><td>20062</td><td>2024-04-26</td><td>94</td></tr><tr><td>12808675</td><td>&quot;Gare&quot;</td><td>&quot;FR&quot;</td><td>&quot;75&quot;</td><td>75580</td><td>2024-04-26</td><td>75</td></tr><tr><td>12808676</td><td>&quot;Maison Blanche&quot;</td><td>&quot;FR&quot;</td><td>&quot;75&quot;</td><td>64302</td><td>2024-04-26</td><td>75</td></tr></tbody></table></div>"
      ],
      "text/plain": [
       "shape: (1_374, 7)\n",
       "┌───────────┬──────────────┬──────────────┬─────────────┬────────────┬──────────────┬──────────────┐\n",
       "│ geonameid ┆ name         ┆ country_code ┆ admin2_code ┆ population ┆ modification ┆ departement_ │\n",
       "│ ---       ┆ ---          ┆ ---          ┆ ---         ┆ ---        ┆ _date        ┆ int          │\n",
       "│ i64       ┆ str          ┆ str          ┆ str         ┆ i64        ┆ ---          ┆ ---          │\n",
       "│           ┆              ┆              ┆             ┆            ┆ date         ┆ i64          │\n",
       "╞═══════════╪══════════════╪══════════════╪═════════════╪════════════╪══════════════╪══════════════╡\n",
       "│ 2967196   ┆ Yvelines     ┆ FR           ┆ 78          ┆ 1433447    ┆ 2018-02-06   ┆ 78           │\n",
       "│ 2967202   ┆ Arrondisseme ┆ FR           ┆ 43          ┆ 85073      ┆ 2023-03-14   ┆ 43           │\n",
       "│           ┆ nt           ┆              ┆             ┆            ┆              ┆              │\n",
       "│           ┆ d'Yssingeaux ┆              ┆             ┆            ┆              ┆              │\n",
       "│ 2967222   ┆ Yonne        ┆ FR           ┆ 89          ┆ 337504     ┆ 2022-03-10   ┆ 89           │\n",
       "│ 2967245   ┆ Yerres       ┆ FR           ┆ 91          ┆ 28897      ┆ 2016-02-18   ┆ 91           │\n",
       "│ 2967324   ┆ Arrondisseme ┆ FR           ┆ 67          ┆ 70020      ┆ 2019-03-27   ┆ 67           │\n",
       "│           ┆ nt de        ┆              ┆             ┆            ┆              ┆              │\n",
       "│           ┆ Wissembourg  ┆              ┆             ┆            ┆              ┆              │\n",
       "│ …         ┆ …            ┆ …            ┆ …           ┆ …          ┆ …            ┆ …            │\n",
       "│ 12808664  ┆ Bel-Air      ┆ FR           ┆ 75          ┆ 36279      ┆ 2024-04-25   ┆ 75           │\n",
       "│ 12808673  ┆ Paris 13e    ┆ FR           ┆ 75          ┆ 177833     ┆ 2024-04-26   ┆ 75           │\n",
       "│           ┆ Arrondisseme ┆              ┆             ┆            ┆              ┆              │\n",
       "│           ┆ nt           ┆              ┆             ┆            ┆              ┆              │\n",
       "│ 12808674  ┆ Croulebarbe  ┆ FR           ┆ 94          ┆ 20062      ┆ 2024-04-26   ┆ 94           │\n",
       "│ 12808675  ┆ Gare         ┆ FR           ┆ 75          ┆ 75580      ┆ 2024-04-26   ┆ 75           │\n",
       "│ 12808676  ┆ Maison       ┆ FR           ┆ 75          ┆ 64302      ┆ 2024-04-26   ┆ 75           │\n",
       "│           ┆ Blanche      ┆              ┆             ┆            ┆              ┆              │\n",
       "└───────────┴──────────────┴──────────────┴─────────────┴────────────┴──────────────┴──────────────┘"
      ]
     },
     "execution_count": 22,
     "metadata": {},
     "output_type": "execute_result"
    }
   ],
   "source": [
    "# Retrieve information from FR data (with filter, select, and new column)\n",
    "df_FR.filter((p.col(\"population\") > 20000) & (~ p.col(\"admin2_code\").is_in([\"2B\",\"2A\"]))) \\\n",
    "    .select(p.col(\"geonameid\",\"name\",\"country_code\",\"admin2_code\",\"population\",\"modification_date\")) \\\n",
    "    .with_columns(p.col(\"admin2_code\").cast(p.Int64).alias(\"departement_int\"))"
   ]
  },
  {
   "cell_type": "code",
   "execution_count": 23,
   "metadata": {},
   "outputs": [
    {
     "data": {
      "text/html": [
       "<div><style>\n",
       ".dataframe > thead > tr,\n",
       ".dataframe > tbody > tr {\n",
       "  text-align: right;\n",
       "  white-space: pre-wrap;\n",
       "}\n",
       "</style>\n",
       "<small>shape: (10, 20)</small><table border=\"1\" class=\"dataframe\"><thead><tr><th>geonameid</th><th>name</th><th>ascii_name</th><th>alternate_names</th><th>latitude</th><th>longitude</th><th>feature_class</th><th>feature_code</th><th>country_code</th><th>cc2</th><th>admin1_code</th><th>admin2_code</th><th>admin3_code</th><th>admin4_code</th><th>population</th><th>elevation</th><th>dem</th><th>timezone</th><th>modification_date</th><th>testing</th></tr><tr><td>i64</td><td>str</td><td>str</td><td>str</td><td>f64</td><td>f64</td><td>str</td><td>str</td><td>str</td><td>str</td><td>str</td><td>str</td><td>str</td><td>str</td><td>i64</td><td>i64</td><td>str</td><td>str</td><td>date</td><td>i64</td></tr></thead><tbody><tr><td>12495506</td><td>&quot;Rue Pierre Butin&quot;</td><td>&quot;Rue Pierre Butin&quot;</td><td>null</td><td>49.04945</td><td>2.09556</td><td>&quot;R&quot;</td><td>&quot;ST&quot;</td><td>&quot;FR&quot;</td><td>null</td><td>&quot;11&quot;</td><td>&quot;95&quot;</td><td>&quot;953&quot;</td><td>&quot;95500&quot;</td><td>0</td><td>null</td><td>&quot;25&quot;</td><td>&quot;Europe/Paris&quot;</td><td>2022-10-28</td><td>183430</td></tr><tr><td>9177883</td><td>&quot;Marriott Paris Cdg Airport Hot&quot;</td><td>&quot;Marriott Paris Cdg Airport Hot&quot;</td><td>null</td><td>49.00498</td><td>2.52092</td><td>&quot;S&quot;</td><td>&quot;HTL&quot;</td><td>&quot;FR&quot;</td><td>null</td><td>&quot;11&quot;</td><td>&quot;95&quot;</td><td>&quot;952&quot;</td><td>&quot;95527&quot;</td><td>0</td><td>null</td><td>&quot;107&quot;</td><td>&quot;Europe/Paris&quot;</td><td>2016-02-18</td><td>183430</td></tr><tr><td>8286140</td><td>&quot;Pierrelaye Railway Station&quot;</td><td>&quot;Pierrelaye Railway Station&quot;</td><td>&quot;87276097&quot;</td><td>49.01928</td><td>2.15403</td><td>&quot;S&quot;</td><td>&quot;RSTN&quot;</td><td>&quot;FR&quot;</td><td>null</td><td>&quot;11&quot;</td><td>&quot;95&quot;</td><td>&quot;951&quot;</td><td>&quot;95488&quot;</td><td>0</td><td>null</td><td>&quot;50&quot;</td><td>&quot;Europe/Paris&quot;</td><td>2019-03-26</td><td>183430</td></tr><tr><td>8286139</td><td>&quot;Montigny-Beauchamp Railway Sta…</td><td>&quot;Montigny-Beauchamp Railway Sta…</td><td>&quot;87276089&quot;</td><td>49.00778</td><td>2.19682</td><td>&quot;S&quot;</td><td>&quot;RSTN&quot;</td><td>&quot;FR&quot;</td><td>null</td><td>&quot;11&quot;</td><td>&quot;95&quot;</td><td>&quot;951&quot;</td><td>&quot;95488&quot;</td><td>0</td><td>null</td><td>&quot;62&quot;</td><td>&quot;Europe/Paris&quot;</td><td>2019-03-28</td><td>183430</td></tr><tr><td>8286138</td><td>&quot;Cernay (Val-d&#x27;Oise) Railway St…</td><td>&quot;Cernay (Val-d&#x27;Oise) Railway St…</td><td>&quot;87276063&quot;</td><td>48.98528</td><td>2.25702</td><td>&quot;S&quot;</td><td>&quot;RSTN&quot;</td><td>&quot;FR&quot;</td><td>null</td><td>&quot;11&quot;</td><td>&quot;95&quot;</td><td>&quot;951&quot;</td><td>&quot;95219&quot;</td><td>0</td><td>null</td><td>&quot;50&quot;</td><td>&quot;Europe/Paris&quot;</td><td>2019-03-26</td><td>183430</td></tr><tr><td>8286137</td><td>&quot;Ermont-Eaubonne Railway Statio…</td><td>&quot;Ermont-Eaubonne Railway Statio…</td><td>&quot;87276055&quot;</td><td>48.98054</td><td>2.27276</td><td>&quot;S&quot;</td><td>&quot;RSTN&quot;</td><td>&quot;FR&quot;</td><td>null</td><td>&quot;11&quot;</td><td>&quot;95&quot;</td><td>&quot;951&quot;</td><td>&quot;95203&quot;</td><td>0</td><td>null</td><td>&quot;48&quot;</td><td>&quot;Europe/Paris&quot;</td><td>2019-03-26</td><td>183430</td></tr><tr><td>8286136</td><td>&quot;Champ de Courses d&#x27;Enghien Rai…</td><td>&quot;Champ de Courses d&#x27;Enghien Rai…</td><td>&quot;87276030&quot;</td><td>48.97974</td><td>2.29175</td><td>&quot;S&quot;</td><td>&quot;RSTN&quot;</td><td>&quot;FR&quot;</td><td>null</td><td>&quot;11&quot;</td><td>&quot;95&quot;</td><td>&quot;952&quot;</td><td>&quot;95598&quot;</td><td>0</td><td>null</td><td>&quot;42&quot;</td><td>&quot;Europe/Paris&quot;</td><td>2016-02-18</td><td>183430</td></tr><tr><td>8286135</td><td>&quot;Enghien les Bains Railway Stat…</td><td>&quot;Enghien les Bains Railway Stat…</td><td>&quot;87276022&quot;</td><td>48.97353</td><td>2.30614</td><td>&quot;S&quot;</td><td>&quot;RSTN&quot;</td><td>&quot;FR&quot;</td><td>null</td><td>&quot;11&quot;</td><td>&quot;95&quot;</td><td>&quot;952&quot;</td><td>&quot;95210&quot;</td><td>0</td><td>null</td><td>&quot;46&quot;</td><td>&quot;Europe/Paris&quot;</td><td>2016-02-18</td><td>183430</td></tr><tr><td>8286126</td><td>&quot;Seugy Railway Station&quot;</td><td>&quot;Seugy Railway Station&quot;</td><td>&quot;87272039&quot;</td><td>49.11918</td><td>2.39905</td><td>&quot;S&quot;</td><td>&quot;RSTN&quot;</td><td>&quot;FR&quot;</td><td>null</td><td>&quot;11&quot;</td><td>&quot;95&quot;</td><td>&quot;952&quot;</td><td>&quot;95594&quot;</td><td>0</td><td>null</td><td>&quot;82&quot;</td><td>&quot;Europe/Paris&quot;</td><td>2016-02-18</td><td>183430</td></tr><tr><td>8286125</td><td>&quot;Villaines (Val-d&#x27;Oise) Railway…</td><td>&quot;Villaines (Val-d&#x27;Oise) Railway…</td><td>&quot;87272021&quot;</td><td>49.07823</td><td>2.34826</td><td>&quot;S&quot;</td><td>&quot;RSTN&quot;</td><td>&quot;FR&quot;</td><td>null</td><td>&quot;11&quot;</td><td>&quot;95&quot;</td><td>&quot;952&quot;</td><td>&quot;95660&quot;</td><td>0</td><td>null</td><td>&quot;120&quot;</td><td>&quot;Europe/Paris&quot;</td><td>2016-02-18</td><td>183430</td></tr></tbody></table></div>"
      ],
      "text/plain": [
       "shape: (10, 20)\n",
       "┌───────────┬─────────────┬─────────────┬────────────┬───┬─────┬────────────┬────────────┬─────────┐\n",
       "│ geonameid ┆ name        ┆ ascii_name  ┆ alternate_ ┆ … ┆ dem ┆ timezone   ┆ modificati ┆ testing │\n",
       "│ ---       ┆ ---         ┆ ---         ┆ names      ┆   ┆ --- ┆ ---        ┆ on_date    ┆ ---     │\n",
       "│ i64       ┆ str         ┆ str         ┆ ---        ┆   ┆ str ┆ str        ┆ ---        ┆ i64     │\n",
       "│           ┆             ┆             ┆ str        ┆   ┆     ┆            ┆ date       ┆         │\n",
       "╞═══════════╪═════════════╪═════════════╪════════════╪═══╪═════╪════════════╪════════════╪═════════╡\n",
       "│ 12495506  ┆ Rue Pierre  ┆ Rue Pierre  ┆ null       ┆ … ┆ 25  ┆ Europe/Par ┆ 2022-10-28 ┆ 183430  │\n",
       "│           ┆ Butin       ┆ Butin       ┆            ┆   ┆     ┆ is         ┆            ┆         │\n",
       "│ 9177883   ┆ Marriott    ┆ Marriott    ┆ null       ┆ … ┆ 107 ┆ Europe/Par ┆ 2016-02-18 ┆ 183430  │\n",
       "│           ┆ Paris Cdg   ┆ Paris Cdg   ┆            ┆   ┆     ┆ is         ┆            ┆         │\n",
       "│           ┆ Airport Hot ┆ Airport Hot ┆            ┆   ┆     ┆            ┆            ┆         │\n",
       "│ 8286140   ┆ Pierrelaye  ┆ Pierrelaye  ┆ 87276097   ┆ … ┆ 50  ┆ Europe/Par ┆ 2019-03-26 ┆ 183430  │\n",
       "│           ┆ Railway     ┆ Railway     ┆            ┆   ┆     ┆ is         ┆            ┆         │\n",
       "│           ┆ Station     ┆ Station     ┆            ┆   ┆     ┆            ┆            ┆         │\n",
       "│ 8286139   ┆ Montigny-Be ┆ Montigny-Be ┆ 87276089   ┆ … ┆ 62  ┆ Europe/Par ┆ 2019-03-28 ┆ 183430  │\n",
       "│           ┆ auchamp     ┆ auchamp     ┆            ┆   ┆     ┆ is         ┆            ┆         │\n",
       "│           ┆ Railway     ┆ Railway     ┆            ┆   ┆     ┆            ┆            ┆         │\n",
       "│           ┆ Sta…        ┆ Sta…        ┆            ┆   ┆     ┆            ┆            ┆         │\n",
       "│ 8286138   ┆ Cernay (Val ┆ Cernay (Val ┆ 87276063   ┆ … ┆ 50  ┆ Europe/Par ┆ 2019-03-26 ┆ 183430  │\n",
       "│           ┆ -d'Oise)    ┆ -d'Oise)    ┆            ┆   ┆     ┆ is         ┆            ┆         │\n",
       "│           ┆ Railway St… ┆ Railway St… ┆            ┆   ┆     ┆            ┆            ┆         │\n",
       "│ 8286137   ┆ Ermont-Eaub ┆ Ermont-Eaub ┆ 87276055   ┆ … ┆ 48  ┆ Europe/Par ┆ 2019-03-26 ┆ 183430  │\n",
       "│           ┆ onne        ┆ onne        ┆            ┆   ┆     ┆ is         ┆            ┆         │\n",
       "│           ┆ Railway     ┆ Railway     ┆            ┆   ┆     ┆            ┆            ┆         │\n",
       "│           ┆ Statio…     ┆ Statio…     ┆            ┆   ┆     ┆            ┆            ┆         │\n",
       "│ 8286136   ┆ Champ de    ┆ Champ de    ┆ 87276030   ┆ … ┆ 42  ┆ Europe/Par ┆ 2016-02-18 ┆ 183430  │\n",
       "│           ┆ Courses     ┆ Courses     ┆            ┆   ┆     ┆ is         ┆            ┆         │\n",
       "│           ┆ d'Enghien   ┆ d'Enghien   ┆            ┆   ┆     ┆            ┆            ┆         │\n",
       "│           ┆ Rai…        ┆ Rai…        ┆            ┆   ┆     ┆            ┆            ┆         │\n",
       "│ 8286135   ┆ Enghien les ┆ Enghien les ┆ 87276022   ┆ … ┆ 46  ┆ Europe/Par ┆ 2016-02-18 ┆ 183430  │\n",
       "│           ┆ Bains       ┆ Bains       ┆            ┆   ┆     ┆ is         ┆            ┆         │\n",
       "│           ┆ Railway     ┆ Railway     ┆            ┆   ┆     ┆            ┆            ┆         │\n",
       "│           ┆ Stat…       ┆ Stat…       ┆            ┆   ┆     ┆            ┆            ┆         │\n",
       "│ 8286126   ┆ Seugy       ┆ Seugy       ┆ 87272039   ┆ … ┆ 82  ┆ Europe/Par ┆ 2016-02-18 ┆ 183430  │\n",
       "│           ┆ Railway     ┆ Railway     ┆            ┆   ┆     ┆ is         ┆            ┆         │\n",
       "│           ┆ Station     ┆ Station     ┆            ┆   ┆     ┆            ┆            ┆         │\n",
       "│ 8286125   ┆ Villaines   ┆ Villaines   ┆ 87272021   ┆ … ┆ 120 ┆ Europe/Par ┆ 2016-02-18 ┆ 183430  │\n",
       "│           ┆ (Val-d'Oise ┆ (Val-d'Oise ┆            ┆   ┆     ┆ is         ┆            ┆         │\n",
       "│           ┆ ) Railway…  ┆ ) Railway…  ┆            ┆   ┆     ┆            ┆            ┆         │\n",
       "└───────────┴─────────────┴─────────────┴────────────┴───┴─────┴────────────┴────────────┴─────────┘"
      ]
     },
     "execution_count": 23,
     "metadata": {},
     "output_type": "execute_result"
    }
   ],
   "source": [
    "# Retrieve information from FR data with a Over and Sort\n",
    "df_FR.filter(p.col(\"admin4_code\").is_not_null()) \\\n",
    "    .with_columns(p.col(\"population\").max().over(\"admin2_code\").alias(\"testing\")) \\\n",
    "    .sort(by=[p.col(\"admin2_code\"),p.col(\"population\")],descending=[True,False]).head(10)"
   ]
  },
  {
   "cell_type": "code",
   "execution_count": 24,
   "metadata": {},
   "outputs": [
    {
     "data": {
      "text/html": [
       "<div><style>\n",
       ".dataframe > thead > tr,\n",
       ".dataframe > tbody > tr {\n",
       "  text-align: right;\n",
       "  white-space: pre-wrap;\n",
       "}\n",
       "</style>\n",
       "<small>shape: (96, 20)</small><table border=\"1\" class=\"dataframe\"><thead><tr><th>geonameid</th><th>name</th><th>ascii_name</th><th>alternate_names</th><th>latitude</th><th>longitude</th><th>feature_class</th><th>feature_code</th><th>country_code</th><th>cc2</th><th>admin1_code</th><th>admin2_code</th><th>admin3_code</th><th>admin4_code</th><th>population</th><th>elevation</th><th>dem</th><th>timezone</th><th>modification_date</th><th>rownumber</th></tr><tr><td>i64</td><td>str</td><td>str</td><td>str</td><td>f64</td><td>f64</td><td>str</td><td>str</td><td>str</td><td>str</td><td>str</td><td>str</td><td>str</td><td>str</td><td>i64</td><td>i64</td><td>str</td><td>str</td><td>date</td><td>u32</td></tr></thead><tbody><tr><td>8555643</td><td>&quot;Cergy-Pontoise&quot;</td><td>&quot;Cergy-Pontoise&quot;</td><td>&quot;Cergy-Pontoise&quot;</td><td>49.03894</td><td>2.07805</td><td>&quot;P&quot;</td><td>&quot;PPLL&quot;</td><td>&quot;FR&quot;</td><td>null</td><td>&quot;11&quot;</td><td>&quot;95&quot;</td><td>&quot;953&quot;</td><td>&quot;95127&quot;</td><td>183430</td><td>null</td><td>&quot;54&quot;</td><td>&quot;Europe/Paris&quot;</td><td>2016-02-18</td><td>1</td></tr><tr><td>6452043</td><td>&quot;Vitry-sur-Seine&quot;</td><td>&quot;Vitry-sur-Seine&quot;</td><td>&quot;94081,Vitry-sur-Seine&quot;</td><td>48.7875</td><td>2.39278</td><td>&quot;A&quot;</td><td>&quot;ADM4&quot;</td><td>&quot;FR&quot;</td><td>null</td><td>&quot;11&quot;</td><td>&quot;94&quot;</td><td>&quot;943&quot;</td><td>&quot;94081&quot;</td><td>92755</td><td>null</td><td>&quot;42&quot;</td><td>&quot;Europe/Paris&quot;</td><td>2019-03-29</td><td>1</td></tr><tr><td>6455341</td><td>&quot;Saint-Denis&quot;</td><td>&quot;Saint-Denis&quot;</td><td>&quot;93066,Kamuna Sen-Dehni,Sain-Nt…</td><td>48.93556</td><td>2.35389</td><td>&quot;A&quot;</td><td>&quot;ADM4&quot;</td><td>&quot;FR&quot;</td><td>null</td><td>&quot;11&quot;</td><td>&quot;93&quot;</td><td>&quot;933&quot;</td><td>&quot;93066&quot;</td><td>111354</td><td>null</td><td>&quot;34&quot;</td><td>&quot;Europe/Paris&quot;</td><td>2019-03-29</td><td>1</td></tr><tr><td>6451962</td><td>&quot;Boulogne-Billancourt&quot;</td><td>&quot;Boulogne-Billancourt&quot;</td><td>&quot;92012&quot;</td><td>48.83528</td><td>2.24139</td><td>&quot;A&quot;</td><td>&quot;ADM4&quot;</td><td>&quot;FR&quot;</td><td>null</td><td>&quot;11&quot;</td><td>&quot;92&quot;</td><td>&quot;923&quot;</td><td>&quot;92012&quot;</td><td>119645</td><td>null</td><td>&quot;38&quot;</td><td>&quot;Europe/Paris&quot;</td><td>2019-03-23</td><td>1</td></tr><tr><td>6454878</td><td>&quot;Évry-Courcouronnes&quot;</td><td>&quot;Evry-Courcouronnes&quot;</td><td>&quot;91228,Aebura,Eburiacum,Ehvri,E…</td><td>48.63389</td><td>2.44417</td><td>&quot;A&quot;</td><td>&quot;ADM4&quot;</td><td>&quot;FR&quot;</td><td>null</td><td>&quot;11&quot;</td><td>&quot;91&quot;</td><td>&quot;912&quot;</td><td>&quot;91228&quot;</td><td>68090</td><td>null</td><td>&quot;74&quot;</td><td>&quot;Europe/Paris&quot;</td><td>2019-03-29</td><td>1</td></tr><tr><td>&hellip;</td><td>&hellip;</td><td>&hellip;</td><td>&hellip;</td><td>&hellip;</td><td>&hellip;</td><td>&hellip;</td><td>&hellip;</td><td>&hellip;</td><td>&hellip;</td><td>&hellip;</td><td>&hellip;</td><td>&hellip;</td><td>&hellip;</td><td>&hellip;</td><td>&hellip;</td><td>&hellip;</td><td>&hellip;</td><td>&hellip;</td><td>&hellip;</td></tr><tr><td>3016702</td><td>&quot;Gap&quot;</td><td>&quot;Gap&quot;</td><td>&quot;GAT,Gap,Vapincum,gap,gapeu,ghb…</td><td>44.55858</td><td>6.07868</td><td>&quot;P&quot;</td><td>&quot;PPLA2&quot;</td><td>&quot;FR&quot;</td><td>null</td><td>&quot;93&quot;</td><td>&quot;05&quot;</td><td>&quot;052&quot;</td><td>&quot;05061&quot;</td><td>42715</td><td>null</td><td>&quot;741&quot;</td><td>&quot;Europe/Paris&quot;</td><td>2019-08-07</td><td>1</td></tr><tr><td>6425528</td><td>&quot;Manosque&quot;</td><td>&quot;Manosque&quot;</td><td>&quot;04112,Manosque&quot;</td><td>43.83333</td><td>5.78333</td><td>&quot;A&quot;</td><td>&quot;ADM4&quot;</td><td>&quot;FR&quot;</td><td>null</td><td>&quot;93&quot;</td><td>&quot;04&quot;</td><td>&quot;044&quot;</td><td>&quot;04112&quot;</td><td>21868</td><td>null</td><td>&quot;390&quot;</td><td>&quot;Europe/Paris&quot;</td><td>2019-03-29</td><td>1</td></tr><tr><td>2992292</td><td>&quot;Montluçon&quot;</td><td>&quot;Montlucon&quot;</td><td>&quot;MCU,Monlison,Monljuson,Mons Lu…</td><td>46.34015</td><td>2.60254</td><td>&quot;P&quot;</td><td>&quot;PPLA3&quot;</td><td>&quot;FR&quot;</td><td>null</td><td>&quot;84&quot;</td><td>&quot;03&quot;</td><td>&quot;031&quot;</td><td>&quot;03185&quot;</td><td>44960</td><td>null</td><td>&quot;208&quot;</td><td>&quot;Europe/Paris&quot;</td><td>2019-04-10</td><td>1</td></tr><tr><td>2977295</td><td>&quot;Saint-Quentin&quot;</td><td>&quot;Saint-Quentin&quot;</td><td>&quot;Egalite-sur-Somme,Egalité-sur-…</td><td>49.84889</td><td>3.28757</td><td>&quot;P&quot;</td><td>&quot;PPLA3&quot;</td><td>&quot;FR&quot;</td><td>null</td><td>&quot;32&quot;</td><td>&quot;02&quot;</td><td>&quot;023&quot;</td><td>&quot;02691&quot;</td><td>55407</td><td>null</td><td>&quot;106&quot;</td><td>&quot;Europe/Paris&quot;</td><td>2016-02-18</td><td>1</td></tr><tr><td>3031009</td><td>&quot;Bourg-en-Bresse&quot;</td><td>&quot;Bourg-en-Bresse&quot;</td><td>&quot;Borg,Borg de Bressa,Bourg,Bour…</td><td>46.20574</td><td>5.2258</td><td>&quot;P&quot;</td><td>&quot;PPLA2&quot;</td><td>&quot;FR&quot;</td><td>null</td><td>&quot;84&quot;</td><td>&quot;01&quot;</td><td>&quot;012&quot;</td><td>&quot;01053&quot;</td><td>45340</td><td>null</td><td>&quot;231&quot;</td><td>&quot;Europe/Paris&quot;</td><td>2016-02-18</td><td>1</td></tr></tbody></table></div>"
      ],
      "text/plain": [
       "shape: (96, 20)\n",
       "┌───────────┬────────────┬────────────┬────────────┬───┬─────┬────────────┬────────────┬───────────┐\n",
       "│ geonameid ┆ name       ┆ ascii_name ┆ alternate_ ┆ … ┆ dem ┆ timezone   ┆ modificati ┆ rownumber │\n",
       "│ ---       ┆ ---        ┆ ---        ┆ names      ┆   ┆ --- ┆ ---        ┆ on_date    ┆ ---       │\n",
       "│ i64       ┆ str        ┆ str        ┆ ---        ┆   ┆ str ┆ str        ┆ ---        ┆ u32       │\n",
       "│           ┆            ┆            ┆ str        ┆   ┆     ┆            ┆ date       ┆           │\n",
       "╞═══════════╪════════════╪════════════╪════════════╪═══╪═════╪════════════╪════════════╪═══════════╡\n",
       "│ 8555643   ┆ Cergy-Pont ┆ Cergy-Pont ┆ Cergy-Pont ┆ … ┆ 54  ┆ Europe/Par ┆ 2016-02-18 ┆ 1         │\n",
       "│           ┆ oise       ┆ oise       ┆ oise       ┆   ┆     ┆ is         ┆            ┆           │\n",
       "│ 6452043   ┆ Vitry-sur- ┆ Vitry-sur- ┆ 94081,Vitr ┆ … ┆ 42  ┆ Europe/Par ┆ 2019-03-29 ┆ 1         │\n",
       "│           ┆ Seine      ┆ Seine      ┆ y-sur-Sein ┆   ┆     ┆ is         ┆            ┆           │\n",
       "│           ┆            ┆            ┆ e          ┆   ┆     ┆            ┆            ┆           │\n",
       "│ 6455341   ┆ Saint-Deni ┆ Saint-Deni ┆ 93066,Kamu ┆ … ┆ 34  ┆ Europe/Par ┆ 2019-03-29 ┆ 1         │\n",
       "│           ┆ s          ┆ s          ┆ na Sen-Deh ┆   ┆     ┆ is         ┆            ┆           │\n",
       "│           ┆            ┆            ┆ ni,Sain-Nt ┆   ┆     ┆            ┆            ┆           │\n",
       "│           ┆            ┆            ┆ …          ┆   ┆     ┆            ┆            ┆           │\n",
       "│ 6451962   ┆ Boulogne-B ┆ Boulogne-B ┆ 92012      ┆ … ┆ 38  ┆ Europe/Par ┆ 2019-03-23 ┆ 1         │\n",
       "│           ┆ illancourt ┆ illancourt ┆            ┆   ┆     ┆ is         ┆            ┆           │\n",
       "│ 6454878   ┆ Évry-Courc ┆ Evry-Courc ┆ 91228,Aebu ┆ … ┆ 74  ┆ Europe/Par ┆ 2019-03-29 ┆ 1         │\n",
       "│           ┆ ouronnes   ┆ ouronnes   ┆ ra,Eburiac ┆   ┆     ┆ is         ┆            ┆           │\n",
       "│           ┆            ┆            ┆ um,Ehvri,E ┆   ┆     ┆            ┆            ┆           │\n",
       "│           ┆            ┆            ┆ …          ┆   ┆     ┆            ┆            ┆           │\n",
       "│ …         ┆ …          ┆ …          ┆ …          ┆ … ┆ …   ┆ …          ┆ …          ┆ …         │\n",
       "│ 3016702   ┆ Gap        ┆ Gap        ┆ GAT,Gap,Va ┆ … ┆ 741 ┆ Europe/Par ┆ 2019-08-07 ┆ 1         │\n",
       "│           ┆            ┆            ┆ pincum,gap ┆   ┆     ┆ is         ┆            ┆           │\n",
       "│           ┆            ┆            ┆ ,gapeu,ghb ┆   ┆     ┆            ┆            ┆           │\n",
       "│           ┆            ┆            ┆ …          ┆   ┆     ┆            ┆            ┆           │\n",
       "│ 6425528   ┆ Manosque   ┆ Manosque   ┆ 04112,Mano ┆ … ┆ 390 ┆ Europe/Par ┆ 2019-03-29 ┆ 1         │\n",
       "│           ┆            ┆            ┆ sque       ┆   ┆     ┆ is         ┆            ┆           │\n",
       "│ 2992292   ┆ Montluçon  ┆ Montlucon  ┆ MCU,Monlis ┆ … ┆ 208 ┆ Europe/Par ┆ 2019-04-10 ┆ 1         │\n",
       "│           ┆            ┆            ┆ on,Monljus ┆   ┆     ┆ is         ┆            ┆           │\n",
       "│           ┆            ┆            ┆ on,Mons    ┆   ┆     ┆            ┆            ┆           │\n",
       "│           ┆            ┆            ┆ Lu…        ┆   ┆     ┆            ┆            ┆           │\n",
       "│ 2977295   ┆ Saint-Quen ┆ Saint-Quen ┆ Egalite-su ┆ … ┆ 106 ┆ Europe/Par ┆ 2016-02-18 ┆ 1         │\n",
       "│           ┆ tin        ┆ tin        ┆ r-Somme,Eg ┆   ┆     ┆ is         ┆            ┆           │\n",
       "│           ┆            ┆            ┆ alité-sur- ┆   ┆     ┆            ┆            ┆           │\n",
       "│           ┆            ┆            ┆ …          ┆   ┆     ┆            ┆            ┆           │\n",
       "│ 3031009   ┆ Bourg-en-B ┆ Bourg-en-B ┆ Borg,Borg  ┆ … ┆ 231 ┆ Europe/Par ┆ 2016-02-18 ┆ 1         │\n",
       "│           ┆ resse      ┆ resse      ┆ de Bressa, ┆   ┆     ┆ is         ┆            ┆           │\n",
       "│           ┆            ┆            ┆ Bourg,Bour ┆   ┆     ┆            ┆            ┆           │\n",
       "│           ┆            ┆            ┆ …          ┆   ┆     ┆            ┆            ┆           │\n",
       "└───────────┴────────────┴────────────┴────────────┴───┴─────┴────────────┴────────────┴───────────┘"
      ]
     },
     "execution_count": 24,
     "metadata": {},
     "output_type": "execute_result"
    }
   ],
   "source": [
    "# Retrieve information from FR data with complexe query\n",
    "df_FR.filter(p.col(\"admin4_code\").is_not_null()) \\\n",
    "    .with_columns(rownumber = (p.col(\"population\").rank(method=\"ordinal\",descending=True).over(expr=[\"admin2_code\"]))) \\\n",
    "    .filter(p.col(\"rownumber\") == 1) \\\n",
    "    .sort(by=[\"admin2_code\"],descending=[True])"
   ]
  },
  {
   "cell_type": "code",
   "execution_count": 25,
   "metadata": {},
   "outputs": [
    {
     "data": {
      "text/html": [
       "<div><style>\n",
       ".dataframe > thead > tr,\n",
       ".dataframe > tbody > tr {\n",
       "  text-align: right;\n",
       "  white-space: pre-wrap;\n",
       "}\n",
       "</style>\n",
       "<small>shape: (8, 19)</small><table border=\"1\" class=\"dataframe\"><thead><tr><th>geonameid</th><th>name</th><th>ascii_name</th><th>alternate_names</th><th>latitude</th><th>longitude</th><th>feature_class</th><th>feature_code</th><th>country_code</th><th>cc2</th><th>admin1_code</th><th>admin2_code</th><th>admin3_code</th><th>admin4_code</th><th>population</th><th>elevation</th><th>dem</th><th>timezone</th><th>modification_date</th></tr><tr><td>i64</td><td>str</td><td>str</td><td>str</td><td>f64</td><td>f64</td><td>str</td><td>str</td><td>str</td><td>str</td><td>str</td><td>str</td><td>str</td><td>str</td><td>i64</td><td>i64</td><td>str</td><td>str</td><td>date</td></tr></thead><tbody><tr><td>2988758</td><td>&quot;Palaiseau&quot;</td><td>&quot;Palaiseau&quot;</td><td>&quot;Palaiseau,Palezo,Paliseau,baly…</td><td>48.71828</td><td>2.2498</td><td>&quot;P&quot;</td><td>&quot;PPLA3&quot;</td><td>&quot;FR&quot;</td><td>null</td><td>&quot;11&quot;</td><td>&quot;91&quot;</td><td>&quot;913&quot;</td><td>&quot;91477&quot;</td><td>31987</td><td>null</td><td>&quot;92&quot;</td><td>&quot;Europe/Paris&quot;</td><td>2019-04-10</td></tr><tr><td>6446184</td><td>&quot;Palaiseau&quot;</td><td>&quot;Palaiseau&quot;</td><td>&quot;91477,Palaiseau&quot;</td><td>48.71833</td><td>2.24972</td><td>&quot;A&quot;</td><td>&quot;ADM4&quot;</td><td>&quot;FR&quot;</td><td>null</td><td>&quot;11&quot;</td><td>&quot;91&quot;</td><td>&quot;913&quot;</td><td>&quot;91477&quot;</td><td>34120</td><td>null</td><td>&quot;92&quot;</td><td>&quot;Europe/Paris&quot;</td><td>2019-03-29</td></tr><tr><td>6457367</td><td>&quot;Arrondissement de Palaiseau&quot;</td><td>&quot;Arrondissement de Palaiseau&quot;</td><td>&quot;Palaiseau&quot;</td><td>48.7145</td><td>2.2484</td><td>&quot;A&quot;</td><td>&quot;ADM3&quot;</td><td>&quot;FR&quot;</td><td>null</td><td>&quot;11&quot;</td><td>&quot;91&quot;</td><td>&quot;913&quot;</td><td>null</td><td>620608</td><td>null</td><td>&quot;72&quot;</td><td>&quot;Europe/Paris&quot;</td><td>2019-03-29</td></tr><tr><td>6508490</td><td>&quot;Novotel Massy Palaiseau&quot;</td><td>&quot;Novotel Massy Palaiseau&quot;</td><td>null</td><td>48.7192</td><td>2.2637</td><td>&quot;S&quot;</td><td>&quot;HTL&quot;</td><td>&quot;FR&quot;</td><td>null</td><td>&quot;11&quot;</td><td>&quot;91&quot;</td><td>&quot;913&quot;</td><td>&quot;91377&quot;</td><td>0</td><td>null</td><td>&quot;96&quot;</td><td>&quot;Europe/Paris&quot;</td><td>2019-03-28</td></tr><tr><td>8286672</td><td>&quot;Massy-Palaiseau-Grande-Ceintur…</td><td>&quot;Massy-Palaiseau-Grande-Ceintur…</td><td>&quot;87393579&quot;</td><td>48.72412</td><td>2.25594</td><td>&quot;S&quot;</td><td>&quot;RSTN&quot;</td><td>&quot;FR&quot;</td><td>null</td><td>&quot;11&quot;</td><td>&quot;91&quot;</td><td>&quot;913&quot;</td><td>&quot;91377&quot;</td><td>0</td><td>null</td><td>&quot;86&quot;</td><td>&quot;Europe/Paris&quot;</td><td>2016-02-18</td></tr><tr><td>8297859</td><td>&quot;Bureau de Poste de Palaiseau&quot;</td><td>&quot;Bureau de Poste de Palaiseau&quot;</td><td>null</td><td>48.71247</td><td>2.24586</td><td>&quot;S&quot;</td><td>&quot;PO&quot;</td><td>&quot;FR&quot;</td><td>null</td><td>&quot;11&quot;</td><td>&quot;91&quot;</td><td>&quot;913&quot;</td><td>&quot;91477&quot;</td><td>0</td><td>null</td><td>&quot;73&quot;</td><td>&quot;Europe/Paris&quot;</td><td>2016-02-18</td></tr><tr><td>8297904</td><td>&quot;Bureau de Poste de Palaiseau L…</td><td>&quot;Bureau de Poste de Palaiseau L…</td><td>null</td><td>48.7055</td><td>2.21047</td><td>&quot;S&quot;</td><td>&quot;PO&quot;</td><td>&quot;FR&quot;</td><td>null</td><td>&quot;11&quot;</td><td>&quot;91&quot;</td><td>&quot;913&quot;</td><td>&quot;91477&quot;</td><td>0</td><td>null</td><td>&quot;82&quot;</td><td>&quot;Europe/Paris&quot;</td><td>2016-02-18</td></tr><tr><td>9178654</td><td>&quot;Relais De Palaiseau&quot;</td><td>&quot;Relais De Palaiseau&quot;</td><td>null</td><td>48.70943</td><td>2.25456</td><td>&quot;S&quot;</td><td>&quot;HTL&quot;</td><td>&quot;FR&quot;</td><td>null</td><td>&quot;11&quot;</td><td>&quot;91&quot;</td><td>&quot;913&quot;</td><td>&quot;91477&quot;</td><td>0</td><td>null</td><td>&quot;55&quot;</td><td>&quot;Europe/Paris&quot;</td><td>2016-02-18</td></tr></tbody></table></div>"
      ],
      "text/plain": [
       "shape: (8, 19)\n",
       "┌───────────┬────────────┬────────────┬────────────┬───┬───────────┬─────┬────────────┬────────────┐\n",
       "│ geonameid ┆ name       ┆ ascii_name ┆ alternate_ ┆ … ┆ elevation ┆ dem ┆ timezone   ┆ modificati │\n",
       "│ ---       ┆ ---        ┆ ---        ┆ names      ┆   ┆ ---       ┆ --- ┆ ---        ┆ on_date    │\n",
       "│ i64       ┆ str        ┆ str        ┆ ---        ┆   ┆ i64       ┆ str ┆ str        ┆ ---        │\n",
       "│           ┆            ┆            ┆ str        ┆   ┆           ┆     ┆            ┆ date       │\n",
       "╞═══════════╪════════════╪════════════╪════════════╪═══╪═══════════╪═════╪════════════╪════════════╡\n",
       "│ 2988758   ┆ Palaiseau  ┆ Palaiseau  ┆ Palaiseau, ┆ … ┆ null      ┆ 92  ┆ Europe/Par ┆ 2019-04-10 │\n",
       "│           ┆            ┆            ┆ Palezo,Pal ┆   ┆           ┆     ┆ is         ┆            │\n",
       "│           ┆            ┆            ┆ iseau,baly ┆   ┆           ┆     ┆            ┆            │\n",
       "│           ┆            ┆            ┆ …          ┆   ┆           ┆     ┆            ┆            │\n",
       "│ 6446184   ┆ Palaiseau  ┆ Palaiseau  ┆ 91477,Pala ┆ … ┆ null      ┆ 92  ┆ Europe/Par ┆ 2019-03-29 │\n",
       "│           ┆            ┆            ┆ iseau      ┆   ┆           ┆     ┆ is         ┆            │\n",
       "│ 6457367   ┆ Arrondisse ┆ Arrondisse ┆ Palaiseau  ┆ … ┆ null      ┆ 72  ┆ Europe/Par ┆ 2019-03-29 │\n",
       "│           ┆ ment de    ┆ ment de    ┆            ┆   ┆           ┆     ┆ is         ┆            │\n",
       "│           ┆ Palaiseau  ┆ Palaiseau  ┆            ┆   ┆           ┆     ┆            ┆            │\n",
       "│ 6508490   ┆ Novotel    ┆ Novotel    ┆ null       ┆ … ┆ null      ┆ 96  ┆ Europe/Par ┆ 2019-03-28 │\n",
       "│           ┆ Massy      ┆ Massy      ┆            ┆   ┆           ┆     ┆ is         ┆            │\n",
       "│           ┆ Palaiseau  ┆ Palaiseau  ┆            ┆   ┆           ┆     ┆            ┆            │\n",
       "│ 8286672   ┆ Massy-Pala ┆ Massy-Pala ┆ 87393579   ┆ … ┆ null      ┆ 86  ┆ Europe/Par ┆ 2016-02-18 │\n",
       "│           ┆ iseau-Gran ┆ iseau-Gran ┆            ┆   ┆           ┆     ┆ is         ┆            │\n",
       "│           ┆ de-Ceintur ┆ de-Ceintur ┆            ┆   ┆           ┆     ┆            ┆            │\n",
       "│           ┆ …          ┆ …          ┆            ┆   ┆           ┆     ┆            ┆            │\n",
       "│ 8297859   ┆ Bureau de  ┆ Bureau de  ┆ null       ┆ … ┆ null      ┆ 73  ┆ Europe/Par ┆ 2016-02-18 │\n",
       "│           ┆ Poste de   ┆ Poste de   ┆            ┆   ┆           ┆     ┆ is         ┆            │\n",
       "│           ┆ Palaiseau  ┆ Palaiseau  ┆            ┆   ┆           ┆     ┆            ┆            │\n",
       "│ 8297904   ┆ Bureau de  ┆ Bureau de  ┆ null       ┆ … ┆ null      ┆ 82  ┆ Europe/Par ┆ 2016-02-18 │\n",
       "│           ┆ Poste de   ┆ Poste de   ┆            ┆   ┆           ┆     ┆ is         ┆            │\n",
       "│           ┆ Palaiseau  ┆ Palaiseau  ┆            ┆   ┆           ┆     ┆            ┆            │\n",
       "│           ┆ L…         ┆ L…         ┆            ┆   ┆           ┆     ┆            ┆            │\n",
       "│ 9178654   ┆ Relais De  ┆ Relais De  ┆ null       ┆ … ┆ null      ┆ 55  ┆ Europe/Par ┆ 2016-02-18 │\n",
       "│           ┆ Palaiseau  ┆ Palaiseau  ┆            ┆   ┆           ┆     ┆ is         ┆            │\n",
       "└───────────┴────────────┴────────────┴────────────┴───┴───────────┴─────┴────────────┴────────────┘"
      ]
     },
     "execution_count": 25,
     "metadata": {},
     "output_type": "execute_result"
    }
   ],
   "source": [
    "# Retrieve information if the world \"palaiseau\" exist in the name\n",
    "df_FR.filter(p.col(\"name\").str.to_lowercase().str.contains_any([\"palaiseau\"]))"
   ]
  },
  {
   "cell_type": "code",
   "execution_count": 26,
   "metadata": {},
   "outputs": [],
   "source": [
    "# Extract all the cities from FR Data\n",
    "df_villes = df_FR.filter(p.col(\"feature_code\")==\"ADM4\") \\\n",
    "                    .with_columns(p.concat_list([p.col(\"country_code\"),p.col(\"admin1_code\"),p.col(\"admin2_code\")]).list.join(\".\").alias(\"codes_ADM2\")) \\\n",
    "                    .with_columns(p.concat_list([p.col(\"country_code\"),p.col(\"admin1_code\")]).list.join(\".\").alias(\"codes_ADM1\"))"
   ]
  },
  {
   "cell_type": "code",
   "execution_count": 27,
   "metadata": {},
   "outputs": [],
   "source": [
    "# Extract the French information from admin1 and admin2\n",
    "df_admin2_FR = df_admin2.filter(p.col(\"codes\").str.starts_with(\"FR\"))\n",
    "df_admin1_FR = df_admin1.filter(p.col(\"code\").str.starts_with(\"FR\"))"
   ]
  },
  {
   "cell_type": "code",
   "execution_count": 28,
   "metadata": {},
   "outputs": [
    {
     "data": {
      "text/html": [
       "<div><style>\n",
       ".dataframe > thead > tr,\n",
       ".dataframe > tbody > tr {\n",
       "  text-align: right;\n",
       "  white-space: pre-wrap;\n",
       "}\n",
       "</style>\n",
       "<small>shape: (5, 21)</small><table border=\"1\" class=\"dataframe\"><thead><tr><th>geonameid</th><th>name</th><th>ascii_name</th><th>alternate_names</th><th>latitude</th><th>longitude</th><th>feature_class</th><th>feature_code</th><th>country_code</th><th>cc2</th><th>admin1_code</th><th>admin2_code</th><th>admin3_code</th><th>admin4_code</th><th>population</th><th>elevation</th><th>dem</th><th>timezone</th><th>modification_date</th><th>codes_ADM2</th><th>codes_ADM1</th></tr><tr><td>i64</td><td>str</td><td>str</td><td>str</td><td>f64</td><td>f64</td><td>str</td><td>str</td><td>str</td><td>str</td><td>str</td><td>str</td><td>str</td><td>str</td><td>i64</td><td>i64</td><td>str</td><td>str</td><td>date</td><td>str</td><td>str</td></tr></thead><tbody><tr><td>2968577</td><td>&quot;Villeneuve-d&#x27;Ascq&quot;</td><td>&quot;Villeneuve-d&#x27;Ascq&quot;</td><td>&quot;59009,Lungsod ng Villeneuve-d&#x27;…</td><td>50.62278</td><td>3.14417</td><td>&quot;A&quot;</td><td>&quot;ADM4&quot;</td><td>&quot;FR&quot;</td><td>null</td><td>&quot;32&quot;</td><td>&quot;59&quot;</td><td>&quot;595&quot;</td><td>&quot;59009&quot;</td><td>62358</td><td>null</td><td>&quot;31&quot;</td><td>&quot;Europe/Paris&quot;</td><td>2019-03-29</td><td>&quot;FR.32.59&quot;</td><td>&quot;FR.32&quot;</td></tr><tr><td>2973014</td><td>&quot;Bitschwiller-lès-Thann&quot;</td><td>&quot;Bitschwiller-les-Thann&quot;</td><td>&quot;68040,Bitschweiler,Bitshviler …</td><td>47.83028</td><td>7.08028</td><td>&quot;A&quot;</td><td>&quot;ADM4&quot;</td><td>&quot;FR&quot;</td><td>null</td><td>&quot;44&quot;</td><td>&quot;68&quot;</td><td>&quot;686&quot;</td><td>&quot;68040&quot;</td><td>1973</td><td>null</td><td>&quot;358&quot;</td><td>&quot;Europe/Paris&quot;</td><td>2019-03-23</td><td>&quot;FR.44.68&quot;</td><td>&quot;FR.44&quot;</td></tr><tr><td>2986293</td><td>&quot;Pontault-Combault&quot;</td><td>&quot;Pontault-Combault&quot;</td><td>&quot;77373&quot;</td><td>48.798</td><td>2.6063</td><td>&quot;A&quot;</td><td>&quot;ADM4&quot;</td><td>&quot;FR&quot;</td><td>null</td><td>&quot;11&quot;</td><td>&quot;77&quot;</td><td>&quot;775&quot;</td><td>&quot;77373&quot;</td><td>38326</td><td>null</td><td>&quot;107&quot;</td><td>&quot;Europe/Paris&quot;</td><td>2019-03-23</td><td>&quot;FR.11.77&quot;</td><td>&quot;FR.11&quot;</td></tr><tr><td>3008501</td><td>&quot;L&#x27;Albère&quot;</td><td>&quot;L&#x27;Albere&quot;</td><td>&quot;66001,L&#x27;Albere,L&#x27;Albère,l&#x27;Albe…</td><td>42.48278</td><td>2.89444</td><td>&quot;A&quot;</td><td>&quot;ADM4&quot;</td><td>&quot;FR&quot;</td><td>null</td><td>&quot;76&quot;</td><td>&quot;66&quot;</td><td>&quot;661&quot;</td><td>&quot;66001&quot;</td><td>83</td><td>null</td><td>&quot;540&quot;</td><td>&quot;Europe/Paris&quot;</td><td>2019-03-29</td><td>&quot;FR.76.66&quot;</td><td>&quot;FR.76&quot;</td></tr><tr><td>6324452</td><td>&quot;Maureillas-las-Illas&quot;</td><td>&quot;Maureillas-las-Illas&quot;</td><td>&quot;66106,Maureillas-las-Illas,Mor…</td><td>42.49028</td><td>2.81028</td><td>&quot;A&quot;</td><td>&quot;ADM4&quot;</td><td>&quot;FR&quot;</td><td>null</td><td>&quot;76&quot;</td><td>&quot;66&quot;</td><td>&quot;661&quot;</td><td>&quot;66106&quot;</td><td>2559</td><td>null</td><td>&quot;131&quot;</td><td>&quot;Europe/Paris&quot;</td><td>2019-03-29</td><td>&quot;FR.76.66&quot;</td><td>&quot;FR.76&quot;</td></tr></tbody></table></div>"
      ],
      "text/plain": [
       "shape: (5, 21)\n",
       "┌───────────┬───────────┬───────────┬───────────┬───┬───────────┬───────────┬───────────┬──────────┐\n",
       "│ geonameid ┆ name      ┆ ascii_nam ┆ alternate ┆ … ┆ timezone  ┆ modificat ┆ codes_ADM ┆ codes_AD │\n",
       "│ ---       ┆ ---       ┆ e         ┆ _names    ┆   ┆ ---       ┆ ion_date  ┆ 2         ┆ M1       │\n",
       "│ i64       ┆ str       ┆ ---       ┆ ---       ┆   ┆ str       ┆ ---       ┆ ---       ┆ ---      │\n",
       "│           ┆           ┆ str       ┆ str       ┆   ┆           ┆ date      ┆ str       ┆ str      │\n",
       "╞═══════════╪═══════════╪═══════════╪═══════════╪═══╪═══════════╪═══════════╪═══════════╪══════════╡\n",
       "│ 2968577   ┆ Villeneuv ┆ Villeneuv ┆ 59009,Lun ┆ … ┆ Europe/Pa ┆ 2019-03-2 ┆ FR.32.59  ┆ FR.32    │\n",
       "│           ┆ e-d'Ascq  ┆ e-d'Ascq  ┆ gsod ng   ┆   ┆ ris       ┆ 9         ┆           ┆          │\n",
       "│           ┆           ┆           ┆ Villeneuv ┆   ┆           ┆           ┆           ┆          │\n",
       "│           ┆           ┆           ┆ e-d'…     ┆   ┆           ┆           ┆           ┆          │\n",
       "│ 2973014   ┆ Bitschwil ┆ Bitschwil ┆ 68040,Bit ┆ … ┆ Europe/Pa ┆ 2019-03-2 ┆ FR.44.68  ┆ FR.44    │\n",
       "│           ┆ ler-lès-T ┆ ler-les-T ┆ schweiler ┆   ┆ ris       ┆ 3         ┆           ┆          │\n",
       "│           ┆ hann      ┆ hann      ┆ ,Bitshvil ┆   ┆           ┆           ┆           ┆          │\n",
       "│           ┆           ┆           ┆ er …      ┆   ┆           ┆           ┆           ┆          │\n",
       "│ 2986293   ┆ Pontault- ┆ Pontault- ┆ 77373     ┆ … ┆ Europe/Pa ┆ 2019-03-2 ┆ FR.11.77  ┆ FR.11    │\n",
       "│           ┆ Combault  ┆ Combault  ┆           ┆   ┆ ris       ┆ 3         ┆           ┆          │\n",
       "│ 3008501   ┆ L'Albère  ┆ L'Albere  ┆ 66001,L'A ┆ … ┆ Europe/Pa ┆ 2019-03-2 ┆ FR.76.66  ┆ FR.76    │\n",
       "│           ┆           ┆           ┆ lbere,L'A ┆   ┆ ris       ┆ 9         ┆           ┆          │\n",
       "│           ┆           ┆           ┆ lbère,l'A ┆   ┆           ┆           ┆           ┆          │\n",
       "│           ┆           ┆           ┆ lbe…      ┆   ┆           ┆           ┆           ┆          │\n",
       "│ 6324452   ┆ Maureilla ┆ Maureilla ┆ 66106,Mau ┆ … ┆ Europe/Pa ┆ 2019-03-2 ┆ FR.76.66  ┆ FR.76    │\n",
       "│           ┆ s-las-Ill ┆ s-las-Ill ┆ reillas-l ┆   ┆ ris       ┆ 9         ┆           ┆          │\n",
       "│           ┆ as        ┆ as        ┆ as-Illas, ┆   ┆           ┆           ┆           ┆          │\n",
       "│           ┆           ┆           ┆ Mor…      ┆   ┆           ┆           ┆           ┆          │\n",
       "└───────────┴───────────┴───────────┴───────────┴───┴───────────┴───────────┴───────────┴──────────┘"
      ]
     },
     "execution_count": 28,
     "metadata": {},
     "output_type": "execute_result"
    }
   ],
   "source": [
    "# Get the 5 first row from the cities data\n",
    "df_villes.head(5)\n"
   ]
  },
  {
   "cell_type": "code",
   "execution_count": 29,
   "metadata": {},
   "outputs": [],
   "source": [
    "# Join admin2 and admin1 with cities data to build a new dataset with cities, department, region and population\n",
    "df_villes_details = df_villes.join(other=df_admin2_FR.rename(mapping={\"name\":\"name_ADM2\"}).select([\"codes\",\"name_ADM2\"]), left_on=\"codes_ADM2\", right_on=\"codes\", how=\"left\", coalesce=False ) \\\n",
    "                             .join(other=df_admin1_FR.rename(mapping={\"name\":\"name_ADM1\"}).select([\"code\",\"name_ADM1\"]), left_on=\"codes_ADM1\", right_on=\"code\", how=\"left\", coalesce=False)"
   ]
  },
  {
   "cell_type": "code",
   "execution_count": 30,
   "metadata": {},
   "outputs": [],
   "source": [
    "# Retrieve only the needed information from the result dataframe\n",
    "df_villes_result = \\\n",
    "    df_villes_details.select(city_name=\"name\"\n",
    "                         ,department_name=\"name_ADM2\"\n",
    "                         ,department_code=\"admin2_code\"\n",
    "                         ,region_name=\"name_ADM1\"\n",
    "                         ,region_code=\"admin1_code\"\n",
    "                         ,population=\"population\"\n",
    "                         ,last_modification=\"modification_date\") \\\n",
    "                .sort(by=[\"department_code\",\"population\"],descending=[False,True])"
   ]
  },
  {
   "cell_type": "code",
   "execution_count": 31,
   "metadata": {},
   "outputs": [
    {
     "data": {
      "text/plain": [
       "city_name: large_string\n",
       "department_name: large_string\n",
       "department_code: large_string\n",
       "region_name: large_string\n",
       "region_code: large_string\n",
       "population: int64\n",
       "last_modification: date32[day]"
      ]
     },
     "execution_count": 31,
     "metadata": {},
     "output_type": "execute_result"
    }
   ],
   "source": [
    "# Get the schema with pyarrow format\n",
    "df_villes_result.to_arrow().schema"
   ]
  },
  {
   "cell_type": "code",
   "execution_count": 32,
   "metadata": {},
   "outputs": [],
   "source": [
    "# Write the result with parquet format\n",
    "df_villes_result.write_parquet(file=file_result_ville_parquet)"
   ]
  },
  {
   "cell_type": "code",
   "execution_count": 33,
   "metadata": {},
   "outputs": [],
   "source": [
    "# Write the result with delta format (overwrite method)\n",
    "df_villes_result.write_delta(file_result_ville_delta,mode=\"overwrite\",\n",
    "    delta_write_options={\"schema_mode\": \"overwrite\"},)"
   ]
  },
  {
   "cell_type": "code",
   "execution_count": 34,
   "metadata": {},
   "outputs": [
    {
     "data": {
      "text/html": [
       "<div><style>\n",
       ".dataframe > thead > tr,\n",
       ".dataframe > tbody > tr {\n",
       "  text-align: right;\n",
       "  white-space: pre-wrap;\n",
       "}\n",
       "</style>\n",
       "<small>shape: (34_806, 7)</small><table border=\"1\" class=\"dataframe\"><thead><tr><th>city_name</th><th>department_name</th><th>department_code</th><th>region_name</th><th>region_code</th><th>population</th><th>last_modification</th></tr><tr><td>str</td><td>str</td><td>str</td><td>str</td><td>str</td><td>i64</td><td>date</td></tr></thead><tbody><tr><td>&quot;Bourg-en-Bresse&quot;</td><td>&quot;Ain&quot;</td><td>&quot;01&quot;</td><td>&quot;Auvergne-Rhône-Alpes&quot;</td><td>&quot;84&quot;</td><td>41365</td><td>2019-03-29</td></tr><tr><td>&quot;Oyonnax&quot;</td><td>&quot;Ain&quot;</td><td>&quot;01&quot;</td><td>&quot;Auvergne-Rhône-Alpes&quot;</td><td>&quot;84&quot;</td><td>22559</td><td>2019-03-29</td></tr><tr><td>&quot;Valserhône&quot;</td><td>&quot;Ain&quot;</td><td>&quot;01&quot;</td><td>&quot;Auvergne-Rhône-Alpes&quot;</td><td>&quot;84&quot;</td><td>16302</td><td>2019-03-29</td></tr><tr><td>&quot;Ambérieu-en-Bugey&quot;</td><td>&quot;Ain&quot;</td><td>&quot;01&quot;</td><td>&quot;Auvergne-Rhône-Alpes&quot;</td><td>&quot;84&quot;</td><td>14081</td><td>2019-03-29</td></tr><tr><td>&quot;Gex&quot;</td><td>&quot;Ain&quot;</td><td>&quot;01&quot;</td><td>&quot;Auvergne-Rhône-Alpes&quot;</td><td>&quot;84&quot;</td><td>12652</td><td>2019-03-29</td></tr><tr><td>&hellip;</td><td>&hellip;</td><td>&hellip;</td><td>&hellip;</td><td>&hellip;</td><td>&hellip;</td><td>&hellip;</td></tr><tr><td>&quot;Châtenay-en-France&quot;</td><td>&quot;Val d&#x27;Oise&quot;</td><td>&quot;95&quot;</td><td>&quot;Île-de-France&quot;</td><td>&quot;11&quot;</td><td>72</td><td>2019-03-29</td></tr><tr><td>&quot;Épinay-Champlâtreux&quot;</td><td>&quot;Val d&#x27;Oise&quot;</td><td>&quot;95&quot;</td><td>&quot;Île-de-France&quot;</td><td>&quot;11&quot;</td><td>65</td><td>2019-03-29</td></tr><tr><td>&quot;Menouville&quot;</td><td>&quot;Val d&#x27;Oise&quot;</td><td>&quot;95&quot;</td><td>&quot;Île-de-France&quot;</td><td>&quot;11&quot;</td><td>62</td><td>2019-03-23</td></tr><tr><td>&quot;Theuville&quot;</td><td>&quot;Val d&#x27;Oise&quot;</td><td>&quot;95&quot;</td><td>&quot;Île-de-France&quot;</td><td>&quot;11&quot;</td><td>38</td><td>2019-03-29</td></tr><tr><td>&quot;Charmont&quot;</td><td>&quot;Val d&#x27;Oise&quot;</td><td>&quot;95&quot;</td><td>&quot;Île-de-France&quot;</td><td>&quot;11&quot;</td><td>33</td><td>2019-03-23</td></tr></tbody></table></div>"
      ],
      "text/plain": [
       "shape: (34_806, 7)\n",
       "┌──────────────┬──────────────┬─────────────┬─────────────┬─────────────┬────────────┬─────────────┐\n",
       "│ city_name    ┆ department_n ┆ department_ ┆ region_name ┆ region_code ┆ population ┆ last_modifi │\n",
       "│ ---          ┆ ame          ┆ code        ┆ ---         ┆ ---         ┆ ---        ┆ cation      │\n",
       "│ str          ┆ ---          ┆ ---         ┆ str         ┆ str         ┆ i64        ┆ ---         │\n",
       "│              ┆ str          ┆ str         ┆             ┆             ┆            ┆ date        │\n",
       "╞══════════════╪══════════════╪═════════════╪═════════════╪═════════════╪════════════╪═════════════╡\n",
       "│ Bourg-en-Bre ┆ Ain          ┆ 01          ┆ Auvergne-Rh ┆ 84          ┆ 41365      ┆ 2019-03-29  │\n",
       "│ sse          ┆              ┆             ┆ ône-Alpes   ┆             ┆            ┆             │\n",
       "│ Oyonnax      ┆ Ain          ┆ 01          ┆ Auvergne-Rh ┆ 84          ┆ 22559      ┆ 2019-03-29  │\n",
       "│              ┆              ┆             ┆ ône-Alpes   ┆             ┆            ┆             │\n",
       "│ Valserhône   ┆ Ain          ┆ 01          ┆ Auvergne-Rh ┆ 84          ┆ 16302      ┆ 2019-03-29  │\n",
       "│              ┆              ┆             ┆ ône-Alpes   ┆             ┆            ┆             │\n",
       "│ Ambérieu-en- ┆ Ain          ┆ 01          ┆ Auvergne-Rh ┆ 84          ┆ 14081      ┆ 2019-03-29  │\n",
       "│ Bugey        ┆              ┆             ┆ ône-Alpes   ┆             ┆            ┆             │\n",
       "│ Gex          ┆ Ain          ┆ 01          ┆ Auvergne-Rh ┆ 84          ┆ 12652      ┆ 2019-03-29  │\n",
       "│              ┆              ┆             ┆ ône-Alpes   ┆             ┆            ┆             │\n",
       "│ …            ┆ …            ┆ …           ┆ …           ┆ …           ┆ …          ┆ …           │\n",
       "│ Châtenay-en- ┆ Val d'Oise   ┆ 95          ┆ Île-de-Fran ┆ 11          ┆ 72         ┆ 2019-03-29  │\n",
       "│ France       ┆              ┆             ┆ ce          ┆             ┆            ┆             │\n",
       "│ Épinay-Champ ┆ Val d'Oise   ┆ 95          ┆ Île-de-Fran ┆ 11          ┆ 65         ┆ 2019-03-29  │\n",
       "│ lâtreux      ┆              ┆             ┆ ce          ┆             ┆            ┆             │\n",
       "│ Menouville   ┆ Val d'Oise   ┆ 95          ┆ Île-de-Fran ┆ 11          ┆ 62         ┆ 2019-03-23  │\n",
       "│              ┆              ┆             ┆ ce          ┆             ┆            ┆             │\n",
       "│ Theuville    ┆ Val d'Oise   ┆ 95          ┆ Île-de-Fran ┆ 11          ┆ 38         ┆ 2019-03-29  │\n",
       "│              ┆              ┆             ┆ ce          ┆             ┆            ┆             │\n",
       "│ Charmont     ┆ Val d'Oise   ┆ 95          ┆ Île-de-Fran ┆ 11          ┆ 33         ┆ 2019-03-23  │\n",
       "│              ┆              ┆             ┆ ce          ┆             ┆            ┆             │\n",
       "└──────────────┴──────────────┴─────────────┴─────────────┴─────────────┴────────────┴─────────────┘"
      ]
     },
     "execution_count": 34,
     "metadata": {},
     "output_type": "execute_result"
    }
   ],
   "source": [
    "# Retrieve the written information from delta format\n",
    "p.read_delta(file_result_ville_delta)"
   ]
  },
  {
   "cell_type": "code",
   "execution_count": 40,
   "metadata": {},
   "outputs": [
    {
     "data": {
      "text/html": [
       "<div><style>\n",
       ".dataframe > thead > tr,\n",
       ".dataframe > tbody > tr {\n",
       "  text-align: right;\n",
       "  white-space: pre-wrap;\n",
       "}\n",
       "</style>\n",
       "<small>shape: (34_806, 7)</small><table border=\"1\" class=\"dataframe\"><thead><tr><th>city_name</th><th>department_name</th><th>department_code</th><th>region_name</th><th>region_code</th><th>population</th><th>last_modification</th></tr><tr><td>str</td><td>str</td><td>str</td><td>str</td><td>str</td><td>i64</td><td>date</td></tr></thead><tbody><tr><td>&quot;Bourg-en-Bresse&quot;</td><td>&quot;Ain&quot;</td><td>&quot;01&quot;</td><td>&quot;Auvergne-Rhône-Alpes&quot;</td><td>&quot;84&quot;</td><td>41365</td><td>2019-03-29</td></tr><tr><td>&quot;Oyonnax&quot;</td><td>&quot;Ain&quot;</td><td>&quot;01&quot;</td><td>&quot;Auvergne-Rhône-Alpes&quot;</td><td>&quot;84&quot;</td><td>22559</td><td>2019-03-29</td></tr><tr><td>&quot;Valserhône&quot;</td><td>&quot;Ain&quot;</td><td>&quot;01&quot;</td><td>&quot;Auvergne-Rhône-Alpes&quot;</td><td>&quot;84&quot;</td><td>16302</td><td>2019-03-29</td></tr><tr><td>&quot;Ambérieu-en-Bugey&quot;</td><td>&quot;Ain&quot;</td><td>&quot;01&quot;</td><td>&quot;Auvergne-Rhône-Alpes&quot;</td><td>&quot;84&quot;</td><td>14081</td><td>2019-03-29</td></tr><tr><td>&quot;Gex&quot;</td><td>&quot;Ain&quot;</td><td>&quot;01&quot;</td><td>&quot;Auvergne-Rhône-Alpes&quot;</td><td>&quot;84&quot;</td><td>12652</td><td>2019-03-29</td></tr><tr><td>&hellip;</td><td>&hellip;</td><td>&hellip;</td><td>&hellip;</td><td>&hellip;</td><td>&hellip;</td><td>&hellip;</td></tr><tr><td>&quot;Châtenay-en-France&quot;</td><td>&quot;Val d&#x27;Oise&quot;</td><td>&quot;95&quot;</td><td>&quot;Île-de-France&quot;</td><td>&quot;11&quot;</td><td>72</td><td>2019-03-29</td></tr><tr><td>&quot;Épinay-Champlâtreux&quot;</td><td>&quot;Val d&#x27;Oise&quot;</td><td>&quot;95&quot;</td><td>&quot;Île-de-France&quot;</td><td>&quot;11&quot;</td><td>65</td><td>2019-03-29</td></tr><tr><td>&quot;Menouville&quot;</td><td>&quot;Val d&#x27;Oise&quot;</td><td>&quot;95&quot;</td><td>&quot;Île-de-France&quot;</td><td>&quot;11&quot;</td><td>62</td><td>2019-03-23</td></tr><tr><td>&quot;Theuville&quot;</td><td>&quot;Val d&#x27;Oise&quot;</td><td>&quot;95&quot;</td><td>&quot;Île-de-France&quot;</td><td>&quot;11&quot;</td><td>38</td><td>2019-03-29</td></tr><tr><td>&quot;Charmont&quot;</td><td>&quot;Val d&#x27;Oise&quot;</td><td>&quot;95&quot;</td><td>&quot;Île-de-France&quot;</td><td>&quot;11&quot;</td><td>33</td><td>2019-03-23</td></tr></tbody></table></div>"
      ],
      "text/plain": [
       "shape: (34_806, 7)\n",
       "┌──────────────┬──────────────┬─────────────┬─────────────┬─────────────┬────────────┬─────────────┐\n",
       "│ city_name    ┆ department_n ┆ department_ ┆ region_name ┆ region_code ┆ population ┆ last_modifi │\n",
       "│ ---          ┆ ame          ┆ code        ┆ ---         ┆ ---         ┆ ---        ┆ cation      │\n",
       "│ str          ┆ ---          ┆ ---         ┆ str         ┆ str         ┆ i64        ┆ ---         │\n",
       "│              ┆ str          ┆ str         ┆             ┆             ┆            ┆ date        │\n",
       "╞══════════════╪══════════════╪═════════════╪═════════════╪═════════════╪════════════╪═════════════╡\n",
       "│ Bourg-en-Bre ┆ Ain          ┆ 01          ┆ Auvergne-Rh ┆ 84          ┆ 41365      ┆ 2019-03-29  │\n",
       "│ sse          ┆              ┆             ┆ ône-Alpes   ┆             ┆            ┆             │\n",
       "│ Oyonnax      ┆ Ain          ┆ 01          ┆ Auvergne-Rh ┆ 84          ┆ 22559      ┆ 2019-03-29  │\n",
       "│              ┆              ┆             ┆ ône-Alpes   ┆             ┆            ┆             │\n",
       "│ Valserhône   ┆ Ain          ┆ 01          ┆ Auvergne-Rh ┆ 84          ┆ 16302      ┆ 2019-03-29  │\n",
       "│              ┆              ┆             ┆ ône-Alpes   ┆             ┆            ┆             │\n",
       "│ Ambérieu-en- ┆ Ain          ┆ 01          ┆ Auvergne-Rh ┆ 84          ┆ 14081      ┆ 2019-03-29  │\n",
       "│ Bugey        ┆              ┆             ┆ ône-Alpes   ┆             ┆            ┆             │\n",
       "│ Gex          ┆ Ain          ┆ 01          ┆ Auvergne-Rh ┆ 84          ┆ 12652      ┆ 2019-03-29  │\n",
       "│              ┆              ┆             ┆ ône-Alpes   ┆             ┆            ┆             │\n",
       "│ …            ┆ …            ┆ …           ┆ …           ┆ …           ┆ …          ┆ …           │\n",
       "│ Châtenay-en- ┆ Val d'Oise   ┆ 95          ┆ Île-de-Fran ┆ 11          ┆ 72         ┆ 2019-03-29  │\n",
       "│ France       ┆              ┆             ┆ ce          ┆             ┆            ┆             │\n",
       "│ Épinay-Champ ┆ Val d'Oise   ┆ 95          ┆ Île-de-Fran ┆ 11          ┆ 65         ┆ 2019-03-29  │\n",
       "│ lâtreux      ┆              ┆             ┆ ce          ┆             ┆            ┆             │\n",
       "│ Menouville   ┆ Val d'Oise   ┆ 95          ┆ Île-de-Fran ┆ 11          ┆ 62         ┆ 2019-03-23  │\n",
       "│              ┆              ┆             ┆ ce          ┆             ┆            ┆             │\n",
       "│ Theuville    ┆ Val d'Oise   ┆ 95          ┆ Île-de-Fran ┆ 11          ┆ 38         ┆ 2019-03-29  │\n",
       "│              ┆              ┆             ┆ ce          ┆             ┆            ┆             │\n",
       "│ Charmont     ┆ Val d'Oise   ┆ 95          ┆ Île-de-Fran ┆ 11          ┆ 33         ┆ 2019-03-23  │\n",
       "│              ┆              ┆             ┆ ce          ┆             ┆            ┆             │\n",
       "└──────────────┴──────────────┴─────────────┴─────────────┴─────────────┴────────────┴─────────────┘"
      ]
     },
     "execution_count": 40,
     "metadata": {},
     "output_type": "execute_result"
    }
   ],
   "source": [
    "# Retrieve information from parquet format\n",
    "p.read_parquet(file_result_ville_parquet)"
   ]
  },
  {
   "cell_type": "code",
   "execution_count": null,
   "metadata": {},
   "outputs": [],
   "source": []
  }
 ],
 "metadata": {
  "kernelspec": {
   "display_name": ".venv_polars",
   "language": "python",
   "name": "python3"
  },
  "language_info": {
   "codemirror_mode": {
    "name": "ipython",
    "version": 3
   },
   "file_extension": ".py",
   "mimetype": "text/x-python",
   "name": "python",
   "nbconvert_exporter": "python",
   "pygments_lexer": "ipython3",
   "version": "3.11.9"
  }
 },
 "nbformat": 4,
 "nbformat_minor": 2
}
